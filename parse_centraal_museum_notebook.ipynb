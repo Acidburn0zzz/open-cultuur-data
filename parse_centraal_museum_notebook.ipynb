{
 "metadata": {
  "name": ""
 },
 "nbformat": 3,
 "nbformat_minor": 0,
 "worksheets": [
  {
   "cells": [
    {
     "cell_type": "code",
     "collapsed": false,
     "input": [
      "import xml.etree.ElementTree as ET\n",
      "\n",
      "filename = 'centraal_museum_data/kostuums CM totaal.xml'\n",
      "\n",
      "tree = ET.parse(filename)"
     ],
     "language": "python",
     "metadata": {},
     "outputs": [],
     "prompt_number": 2
    },
    {
     "cell_type": "code",
     "collapsed": false,
     "input": [
      "tags = list()\n",
      "for record in tree.getroot().iter('record'):\n",
      "    for child in record.getchildren():\n",
      "        tags.append(child.tag)\n",
      "        \n",
      "{\n",
      "           t: tags.count(t) for t in set(tags)\n",
      "}"
     ],
     "language": "python",
     "metadata": {},
     "outputs": [
      {
       "metadata": {},
       "output_type": "pyout",
       "prompt_number": 7,
       "text": [
        "{'acquisition.date': 8692,\n",
        " 'acquisition.method': 8653,\n",
        " 'collection': 19865,\n",
        " 'creator': 2824,\n",
        " 'creator.qualifier': 2838,\n",
        " 'creator.role': 303,\n",
        " 'dimension.type': 21039,\n",
        " 'dimension.unit': 20431,\n",
        " 'dimension.value': 21050,\n",
        " 'institution.name': 8684,\n",
        " 'label.text': 85,\n",
        " 'material': 13172,\n",
        " 'notes': 3523,\n",
        " 'object_name': 17986,\n",
        " 'object_number': 8684,\n",
        " 'priref': 17368,\n",
        " 'production.date.end': 8716,\n",
        " 'production.date.start': 8716,\n",
        " 'reproduction.identifier_URL': 978,\n",
        " 'techniek.vrije.tekst': 6096,\n",
        " 'title': 8682}"
       ]
      }
     ],
     "prompt_number": 7
    },
    {
     "cell_type": "code",
     "collapsed": false,
     "input": [
      "for record in tree.getroot().iter('record'):\n",
      "    values = [c.text for c in record.iter('dimension.type.value')]\n",
      "    "
     ],
     "language": "python",
     "metadata": {},
     "outputs": []
    },
    {
     "cell_type": "code",
     "collapsed": false,
     "input": [],
     "language": "python",
     "metadata": {},
     "outputs": []
    }
   ],
   "metadata": {}
  }
 ]
}