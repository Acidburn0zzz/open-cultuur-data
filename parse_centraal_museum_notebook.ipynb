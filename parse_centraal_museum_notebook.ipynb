{
 "metadata": {
  "name": "",
  "signature": "sha256:6a8ec874b95680c84865d77c6ac461dab11933af06bd0b42fc93fc95a36c70a0"
 },
 "nbformat": 3,
 "nbformat_minor": 0,
 "worksheets": [
  {
   "cells": [
    {
     "cell_type": "code",
     "collapsed": false,
     "input": [
      "import xml.etree.ElementTree as ET\n",
      "\n",
      "filename = '../kostuums CM totaal.xml'\n",
      "\n",
      "tree = ET.parse(filename)"
     ],
     "language": "python",
     "metadata": {},
     "outputs": [],
     "prompt_number": 1
    },
    {
     "cell_type": "heading",
     "level": 1,
     "metadata": {},
     "source": [
      "Some general counts"
     ]
    },
    {
     "cell_type": "code",
     "collapsed": false,
     "input": [
      "tags = list()\n",
      "for record in tree.getroot().iter('record'):\n",
      "    for child in record.getchildren():\n",
      "        tags.append(child.tag)\n",
      "        \n",
      "{\n",
      "           t: tags.count(t) for t in set(tags)\n",
      "}"
     ],
     "language": "python",
     "metadata": {},
     "outputs": [
      {
       "metadata": {},
       "output_type": "pyout",
       "prompt_number": 2,
       "text": [
        "{'acquisition.date': 8692,\n",
        " 'acquisition.method': 8653,\n",
        " 'collection': 19865,\n",
        " 'creator': 2824,\n",
        " 'creator.qualifier': 2838,\n",
        " 'creator.role': 303,\n",
        " 'dimension.type': 21039,\n",
        " 'dimension.unit': 20431,\n",
        " 'dimension.value': 21050,\n",
        " 'institution.name': 8684,\n",
        " 'label.text': 85,\n",
        " 'material': 13172,\n",
        " 'notes': 3523,\n",
        " 'object_name': 17986,\n",
        " 'object_number': 8684,\n",
        " 'priref': 17368,\n",
        " 'production.date.end': 8716,\n",
        " 'production.date.start': 8716,\n",
        " 'reproduction.identifier_URL': 978,\n",
        " 'techniek.vrije.tekst': 6096,\n",
        " 'title': 8682}"
       ]
      }
     ],
     "prompt_number": 2
    },
    {
     "cell_type": "heading",
     "level": 1,
     "metadata": {},
     "source": [
      "Reconstructing date granularities"
     ]
    },
    {
     "cell_type": "markdown",
     "metadata": {},
     "source": [
      "Sometimes dates are in the form of \"`19?`\" or \"`1805 (?)`\" or \"`1950 - 1960`\""
     ]
    },
    {
     "cell_type": "code",
     "collapsed": false,
     "input": [
      "# Granularities\n",
      "regexen = {\n",
      "    '\\?$' : (0, lambda _ : None),\n",
      "    '(\\d\\d)[\\?]+$' : (2, lambda (y,) : datetime.datetime(int(y+'00'), 1, 1)),\n",
      "    '(\\d\\d\\d)\\?$' : (3, lambda (y,) : datetime.datetime(int(y+'0'), 1, 1)),\n",
      "    '(\\d\\d\\d\\d) ?- ?\\d\\d\\d\\d$' : (3, lambda (y,) : datetime.datetime(int(y), 1, 1)),\n",
      "    '(\\d\\d\\d0)[\\?() ]+$' : (3, lambda (y,) : datetime.datetime(int(y), 1, 1)),\n",
      "    # 'yyyy?' will still have a date granularity of 4\n",
      "    '(\\d\\d\\d\\d)[\\?() ]+$' : (4, lambda (y,) : datetime.datetime(int(y), 1, 1)),\n",
      "    '(\\d+)$' : (4, lambda (y,) : datetime.datetime(int(y), 1, 1)),\n",
      "    '(\\d\\d\\d\\d)-(\\d+)$' : (6, lambda (y,m) : datetime.datetime(int(y), int(m), 1)),\n",
      "    '(\\d\\d\\d\\d)-(\\d+)-(\\d+)$' : (8, lambda (y,m,d) : datetime.datetime(int(y), int(m), int(d))),\n",
      "}\n",
      "def parse_date(date_str):\n",
      "    \"\"\" Parse a messy string into a granular date \"\"\"\n",
      "    if date_str:\n",
      "        for reg, (gran, dater) in regexen.items():\n",
      "            m = re.match(reg, date_str)\n",
      "            if m:\n",
      "                try:\n",
      "                    return gran, dater(m.groups())\n",
      "                except ValueError:\n",
      "                    return 0, None\n",
      "    return 0, None\n",
      "\n",
      "def parse_date_span(date_str1, date_str2):\n",
      "    \"\"\" Parse a start & end date into a (less) granular date\"\"\"\n",
      "    pds_gran, pds = parse_date(pds_text)\n",
      "    pde_gran, pde = parse_date(pde_text)\n",
      "\n",
      "    if pde:\n",
      "        # TODO: integrate both granularities\n",
      "        if (pds_gran, pds) == (pde_gran, pde):\n",
      "            return pds_gran, pds\n",
      "        if (pde - pds).days < 5*365:\n",
      "            return 4, pds\n",
      "        if (pde - pds).days < 50*365:\n",
      "            return 3, pds\n",
      "        if (pde - pds).days >= 50*365:\n",
      "            return 2, pds\n",
      "    else:\n",
      "        return pds_gran, pds           \n",
      "        "
     ],
     "language": "python",
     "metadata": {},
     "outputs": [],
     "prompt_number": 296
    },
    {
     "cell_type": "heading",
     "level": 1,
     "metadata": {},
     "source": [
      "It's hard to reconstruct from date spans"
     ]
    },
    {
     "cell_type": "code",
     "collapsed": false,
     "input": [
      "p = 10\n",
      "for record in tree.getroot().iter('record'):\n",
      "    if record.find('production.date.start') is not None:\n",
      "        pds_text = record.find('production.date.start').text\n",
      "        pde_text = record.find('production.date.end').text\n",
      "        \n",
      "        pd_gran, pd = parse_date_span(pds_text, pde_text)\n",
      "        if pd_gran < 4 and p:\n",
      "            p -= 1\n",
      "            print 'Reconstructed', (pd_gran, pd), 'from',  (pds_text, pde_text)"
     ],
     "language": "python",
     "metadata": {},
     "outputs": [
      {
       "output_type": "stream",
       "stream": "stdout",
       "text": [
        "Reconstructed (2, datetime.date(1800, 1, 1)) from ('1800', '1900')\n",
        "Reconstructed (2, datetime.date(1825, 1, 1)) from ('1825', '1875')\n",
        "Reconstructed (3, datetime.date(1775, 1, 1)) from ('1775', '1799')\n",
        "Reconstructed (3, datetime.date(1800, 1, 1)) from ('1800', '1810')\n",
        "Reconstructed (2, datetime.date(1800, 1, 1)) from ('1800', '1850')\n",
        "Reconstructed (2, datetime.date(1800, 1, 1)) from ('1800', '1850')\n",
        "Reconstructed (3, datetime.date(1800, 1, 1)) from ('1800', '1825')\n",
        "Reconstructed (3, datetime.date(1800, 1, 1)) from ('1800', '1825')\n",
        "Reconstructed (3, datetime.date(1400, 1, 1)) from ('1400', '1425')\n",
        "Reconstructed (2, datetime.date(1600, 1, 1)) from ('1600', '1699')\n"
       ]
      }
     ],
     "prompt_number": 302
    },
    {
     "cell_type": "markdown",
     "metadata": {},
     "source": [
      "# Measurements\n",
      "\n",
      "The measurements are listed like this:\n",
      "\n",
      "    type1\n",
      "    type2\n",
      "    value1\n",
      "    value2\n",
      "    unit1\n",
      "    unit2\n",
      "\n",
      "So we need to 'transpose' the matrix to group them together. Also, some measurements are unitness and some are duplicate."
     ]
    },
    {
     "cell_type": "code",
     "collapsed": false,
     "input": [
      "p = 10\n",
      "for record in tree.getroot().iter('record'):\n",
      "    fields = ['type', 'value', 'unit']\n",
      "    dim = zip(*[[c.text for c in record.iter('dimension.'+f)] for f in fields])\n",
      "    dim = filter(lambda (t,v,_): t and v and v not in ['?','...','....'] , dim)\n",
      "    \n",
      "    if not all(map(all, dim)) and p:\n",
      "        # These are supposed to be unitless, like shoe size, etc\n",
      "        print 'UNITLESS', dim, record.find('title').text\n",
      "        p -= 1\n",
      "\n",
      "    if len([d[0] for d in dim])!=len(set([d[0] for d in dim])) and p:\n",
      "        # These are duplicate named measurements, for collective items, etc\n",
      "        print 'DUPLICATE', dim, record.find('title').text \n",
      "        p -= 1"
     ],
     "language": "python",
     "metadata": {},
     "outputs": [
      {
       "output_type": "stream",
       "stream": "stdout",
       "text": [
        "DUPLICATE [('lengte', '45', 'cm'), ('lengte', '4.2', 'cm')] Ferroni\u00e8re met oorbellen\n",
        "DUPLICATE [('lengte', '90', 'cm'), ('breedte', '11.5', 'cm'), ('lengte', '33.5', 'cm'), ('breedte', '11', 'cm'), ('lengte', '31.5', 'cm'), ('breedte', '11', 'cm'), ('lengte', '30', 'cm'), ('breedte', '11', 'cm'), ('lengte', '16', 'cm'), ('breedte', '11', 'cm'), ('lengte', '101', 'cm'), ('breedte', '4', 'cm'), ('lengte', '48.5', 'cm'), ('breedte', '4', 'cm')] Fragmenten van de versiering van een bisschopskleed\n",
        "UNITLESS [('lengte totaal middenachter', '150', 'cm'), ('zoomwijdte', '446', 'cm'), ('taillewijdte', '72.5', None), ('lengte mouw', '41.5', 'cm')] Japon\n",
        "UNITLESS [('hoogte middenachter', '126', 'cm'), ('zoomwijdte', '296', 'cm'), ('mouwlengte', '28', None), ('mouwwijdte', '96', 'cm')] Japon\n",
        "DUPLICATE"
       ]
      },
      {
       "output_type": "stream",
       "stream": "stdout",
       "text": [
        " [('hoogte', '255', 'cm'), ('breedte', '250', 'cm'), ('hoogte', '250', 'cm'), ('breedte', '256', 'cm'), ('hoogte', '107', 'cm'), ('breedte', '30', 'cm'), ('hoogte', '193', 'cm'), ('breedte', '30', 'cm'), ('hoogte', '190', 'cm'), ('breedte', '30', 'cm'), ('hoogte', '140', 'cm'), ('breedte', '13', 'cm'), ('hoogte', '68', 'cm'), ('breedte', '10', 'cm')] Stel gordijnen\n",
        "DUPLICATE [('lengte', '100', 'cm'), ('mouwlengte', '59', 'cm'), ('rugbreedte', '29', 'cm'), ('lengte', '82', 'cm'), ('mouwlengte', '51', 'cm'), ('rugbreedte', '29', 'cm'), ('lengte', '97', 'cm')] Habit \u00e0 la fran\u00e7aise, bestaande uit jas, vest en kniebroek\n",
        "DUPLICATE [('doorsnede', '1', 'cm'), ('doorsnede', '4,5', 'cm')] Acht geslepen witte saphirstenen in pillendoosje\n",
        "DUPLICATE [('hoogte', '53.5', 'cm'), ('breedte', '56', 'cm'), ('hoogte', '56', 'cm'), ('breedte', '54', 'cm'), ('hoogte', '57', 'cm'), ('breedte', '55', 'cm'), ('hoogte', '56', 'cm'), ('breedte', '63', 'cm'), ('hoogte', '57', 'cm'), ('breedte', '63', 'cm'), ('hoogte', '53', 'cm'), ('breedte', '48', 'cm'), ('hoogte', '55', 'cm'), ('breedte', '56', 'cm')] Zeven stukken stoelbekleding\n",
        "DUPLICATE [('hoogte', '51', 'cm'), ('breedte', '48', 'cm'), ('hoogte', '61', 'cm'), ('breedte', '40', 'cm'), ('hoogte', '60', 'cm'), ('breedte', '20', 'cm'), ('hoogte', '60', 'cm'), ('breedte', '55', 'cm'), ('hoogte', '55', 'cm'), ('breedte', '45', 'cm'), ('hoogte', '55', 'cm'), ('breedte', '55', 'cm')] Zes stukken stoelbekleding\n",
        "DUPLICATE [('lengte', '18', 'cm'), ('lengte', '6', 'cm'), ('lengte', '26', 'cm'), ('lengte', '28,5', 'cm'), ('lengte', '16', 'cm'), ('lengte', '22,5', 'cm'), ('lengte', '22,5', 'cm')] Vier paar hoedenspelden\n"
       ]
      }
     ],
     "prompt_number": 306
    },
    {
     "cell_type": "heading",
     "level": 1,
     "metadata": {},
     "source": [
      "The pictures are nice"
     ]
    },
    {
     "cell_type": "code",
     "collapsed": false,
     "input": [
      "img_url = 'http://cmu.adlibhosting.com/wwwopacximages/wwwopac.ashx?command=getcontent&server=images&value=%s&width=500&height=500'\n",
      "ims = []\n",
      "for record in tree.getroot().iter('record'):\n",
      "    media = [c.text for c in record.iter('reproduction.identifier_URL') if c.text]\n",
      "    if media:\n",
      "        ims += [img_url % m for m in media]"
     ],
     "language": "python",
     "metadata": {},
     "outputs": [],
     "prompt_number": 82
    },
    {
     "cell_type": "code",
     "collapsed": false,
     "input": [
      "from IPython.display import Image\n",
      "\n",
      "Image(url=ims[121])"
     ],
     "language": "python",
     "metadata": {},
     "outputs": [
      {
       "html": [
        "<img src=\"http://cmu.adlibhosting.com/wwwopacximages/wwwopac.ashx?command=getcontent&server=images&value=\\NIEUW\\X6851.jpg&width=500&height=500\"/>"
       ],
       "metadata": {},
       "output_type": "pyout",
       "prompt_number": 83,
       "text": [
        "<IPython.core.display.Image at 0x10971b050>"
       ]
      }
     ],
     "prompt_number": 83
    },
    {
     "cell_type": "markdown",
     "metadata": {},
     "source": [
      "# Reconstructing the acquisition date granularities\n",
      "\n",
      "Some dates are still invalid. November 31? The 2012th of Januari?"
     ]
    },
    {
     "cell_type": "code",
     "collapsed": false,
     "input": [
      "for record in tree.getroot().iter('record'):\n",
      "    # what does the + mean?\n",
      "    date = record.find('acquisition.date')\n",
      "    method = record.find('acquisition.method')\n",
      "    if not method == None and method.text:\n",
      "        method = method.text\n",
      "    \n",
      "    if not date == None and date.text:\n",
      "        date = date.text.replace(\"+\",\"\").strip()\n",
      "        if date not in ['?', '??', 'onbekend']:\n",
      "            g,d = parse_date(date)\n",
      "            # Invalid dates:\n",
      "            if not d:\n",
      "                print date, (g,d), record.find('title').text\n",
      "#             print {'method' : method, 'date' : d, 'date_granularity' : g }"
     ],
     "language": "python",
     "metadata": {},
     "outputs": [
      {
       "output_type": "stream",
       "stream": "stdout",
       "text": [
        "tussen 1878 en 1904 (0, None) Handwerkzak\n",
        "1904 voor (0, None) Reticule\n",
        "1946-0-14"
       ]
      },
      {
       "output_type": "stream",
       "stream": "stdout",
       "text": [
        " (0, None) Hoedenborstel\n",
        "1960-10 [?]"
       ]
      },
      {
       "output_type": "stream",
       "stream": "stdout",
       "text": [
        " (0, None) Gala-uniform van de ridderschap van Utrecht\n",
        "1962-11013 (0, None) Vijf stukken behang\n",
        "1962-11013 (0, None) Negen stukken behang\n",
        "1947 voor"
       ]
      },
      {
       "output_type": "stream",
       "stream": "stdout",
       "text": [
        " (0, None) Kostuumprent\n",
        "1947 Voor (0, None) Kostuumprent\n",
        "1947 voor (0, None) Kostuumprent\n",
        "1947 voor (0, None) Kostuumprent\n",
        "1947 voor (0, None) Kostuumprent\n",
        "1947 voor (0, None) Kostuumprent\n",
        "1947 voor (0, None) Kostuumprent\n",
        "1947 voor (0, None) Kostuumprent\n",
        "1947 voor (0, None) Kostuumprent\n",
        "1947 voor (0, None) Kostuumprent\n",
        "1947 voor (0, None) Kostuumprent\n",
        "1947 voor (0, None) Kostuumprent\n",
        "1947 voor (0, None) Kostuumprent\n",
        "1947 voor (0, None) Kostuumprent\n",
        "1947 voor (0, None) Kostuumprent\n",
        "1947 voor (0, None) Kostuumprent\n",
        "1947 voor (0, None) Kostuumprent\n",
        "1947 voor (0, None) Kostuumprent\n",
        "1947 voor (0, None) Kostuumprent\n",
        "1947 voor (0, None) Kostuumprent\n",
        "1947 voor (0, None) Kostuumprent\n",
        "1947 voor (0, None) Kostuumprent\n",
        "1947 voor (0, None) Kostuumprent\n",
        "1947 voor (0, None) Kostuumprent\n",
        "1947 voor (0, None) Kostuumprent\n",
        "1947 voor (0, None) Kostuumprent\n",
        "1947 voor (0, None) Kostuumprent\n",
        "1947 voor (0, None) Kostuumprent\n",
        "1947 voor (0, None) Kostuumprent\n",
        "1947 voor (0, None) Kostuumprent\n",
        "1947 voor (0, None) Kostuumprent\n",
        "1976-14-07"
       ]
      },
      {
       "output_type": "stream",
       "stream": "stdout",
       "text": [
        " (0, None) Overhemd\n",
        "1978-11-31 (0, None) Mofje\n",
        "1981-05-24 ca."
       ]
      },
      {
       "output_type": "stream",
       "stream": "stdout",
       "text": [
        " (0, None) Kleedje\n",
        "1987-11-30(17)"
       ]
      },
      {
       "output_type": "stream",
       "stream": "stdout",
       "text": [
        " (0, None) Poppejurkje\n",
        "1987-11-30(17) (0, None) Poppeschortje\n",
        "1982-begin"
       ]
      },
      {
       "output_type": "stream",
       "stream": "stdout",
       "text": [
        " (0, None) Tien handdoeken\n",
        "1987-11-30(17)"
       ]
      },
      {
       "output_type": "stream",
       "stream": "stdout",
       "text": [
        " (0, None) Dameshoed\n",
        "1987-11-30(17) (0, None) Dameshoed\n",
        "1987-11-30(17) (0, None) Dameshoed\n",
        "1987-11-30(17) (0, None) Dameshoed\n",
        "1987-11-30(17) (0, None) Dameshoed\n",
        "1988-11-24(14) (0, None) Damesjas\n",
        "1988-11-24(21) (0, None) Shawl\n",
        "1988-11-24(21) (0, None) Lange rok\n",
        "1988-11-24(21) (0, None) Japon\n",
        "1990-03-22(16) (0, None) Set dameskleding\n",
        "1990-03-22(16) (0, None) Shawl\n",
        "2011-01-2012"
       ]
      },
      {
       "output_type": "stream",
       "stream": "stdout",
       "text": [
        " (0, None) Armband 'z model'\n"
       ]
      }
     ],
     "prompt_number": 298
    },
    {
     "cell_type": "heading",
     "level": 1,
     "metadata": {},
     "source": [
      "The creator roles are also 'transposed'"
     ]
    },
    {
     "cell_type": "code",
     "collapsed": false,
     "input": [
      "p = 10\n",
      "for record in tree.getroot().iter('record'):\n",
      "    fields = ['creator', 'creator.role']\n",
      "    # creator.qualifier is never defined\n",
      "    roles = [[c.text for c in record.iter(f) if c.text] for f in fields]\n",
      "    if all(roles) and p:\n",
      "        print [{'creator': r[0], 'role':r[1]} for r in zip(*roles)]\n",
      "        p -= 1"
     ],
     "language": "python",
     "metadata": {},
     "outputs": [
      {
       "output_type": "stream",
       "stream": "stdout",
       "text": [
        "[{'role': 'drukker/uitgever', 'creator': 'Beekman, J.P.Hz.'}]\n",
        "[{'role': 'ontwerp en uitvoering', 'creator': 'Vakschool voor Verbetering van Vrouwen- en Kinderkleeding te Amsterdam'}]\n",
        "[{'role': 'drukker/uitgever', 'creator': 'Diederichs, Gebroeders'}, {'role': 'ontwerper illustraties', 'creator': 'monogrammist F.D. ()'}, {'role': 'ontwerper illustraties', 'creator': 'monogrammist H.N.S.'}, {'role': 'graveur', 'creator': 'Schmetterling, E.B.'}, {'role': 'graveur', 'creator': 'Sluyter, Dirk Jurriaen'}, {'role': 'graveur', 'creator': 'Fuchs, C.C.'}]"
       ]
      },
      {
       "output_type": "stream",
       "stream": "stdout",
       "text": [
        "\n",
        "[{'role': 'fabrikant', 'creator': 'Cartier Bresson'}]\n",
        "[{'role': 'uitgever', 'creator': 'Kluitman, P.'}, {'role': 'auteur', 'creator': 'Pelsma, W.'}]\n",
        "[{'role': 'auteur', 'creator': 'Meerten-Schilperoort, Anna Barbara van'}, {'role': 'drukker/uitgever', 'creator': 'Beijerinck, G.J.A.'}, {'role': 'ontwerper illustraties', 'creator': 'Borsteegh, Cornelis'}, {'role': 'graveur', 'creator': 'Bierweiler, F.C.'}, {'role': 'graveur', 'creator': 'Sluyter, Dirk Jurriaen'}, {'role': 'graveur', 'creator': 'Lutz, A.'}]\n",
        "[{'role': 'drukker/uitgever', 'creator': 'Kruseman, A.C.'}]\n",
        "[{'role': 'drukker/uitgever', 'creator': u'M\\xe9gevend, M.'}]\n",
        "[{'role': 'auteur', 'creator': u'Gautier, Th\\xe9ophiele'}, {'role': 'auteur', 'creator': 'Janin, Jules'}, {'role': 'auteur', 'creator': 'Chasles, Ph.'}, {'role': 'drukker/uitgever', 'creator': u'Souli\\xe9'}, {'role': 'ontwerper illustraties', 'creator': 'Levert'}, {'role': 'graveur', 'creator': 'Damours'}]\n",
        "[{'role': 'drukker/uitgever', 'creator': 'Buisson'}, {'role': 'ontwerper illustraties', 'creator': 'Derais'}, {'role': 'ontwerper illustraties', 'creator': 'Pugin'}, {'role': 'ontwerper illustraties/graveur', 'creator': 'Duhamel'}]\n"
       ]
      }
     ],
     "prompt_number": 307
    },
    {
     "cell_type": "heading",
     "level": 1,
     "metadata": {},
     "source": [
      "Great collection!"
     ]
    }
   ],
   "metadata": {}
  }
 ]
}